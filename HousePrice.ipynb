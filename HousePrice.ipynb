{
 "cells": [
  {
   "cell_type": "code",
   "execution_count": 22,
   "id": "e315a8af",
   "metadata": {},
   "outputs": [],
   "source": [
    "#import necessary Libraries\n",
    "import pandas as pd\n",
    "import numpy as np\n",
    "from sklearn.model_selection import train_test_split\n",
    "from sklearn.linear_model import LogisticRegression\n",
    "from sklearn.metrics import accuracy_score, confusion_matrix, roc_auc_score\n",
    "import matplotlib.pyplot as plt"
   
    "# Load the dataset\n",
    "df=pd.read_csv(\"C:\\CC\\Housing.csv\")"
       
    "df"
      
     
    "X"
   
     
    "y"
  
   
    "# Split the data into training and testing sets\n",
    "X_train, X_test, y_train, y_test = train_test_split(X, y, train_size=0.2, random_state=42)\n"  
   
    "# Train the logistic regression model\n",
    "model = LogisticRegression()\n",
    "model.fit(X_train, y_train)"
   
    "# Evaluate the model\n",
    "y_pred = model.predict(X_test)"
   
    "y_pred"
   
 
    "actual_prices=np.array(data[\"price\"])"
   
      
    "actual_prices"
   


      "Accuracy: 0.01834862385321101\n"
  
    "# Calculate accuracy score\n",
    "accuracy = accuracy_score(y_test, y_pred)\n",
    "print(\"Accuracy:\", accuracy)"
   
    "# Calculate confusion matrix\n",
    "cm = confusion_matrix(y_test, y_pred)\n",
    "print(\"Confusion Matrix:\\n\", cm)"
 

    "#plot a graph\n",
    "plt.plot(actual_prices,label='Actual Prices')\n",
    "plt.plot(y_pred,label='Predicted Prices')\n",
    "# add axis labels and title\n",
    "plt.ylabel('Predicted Prices')\n",
    "plt.xlabel('Actual Prices')\n",
    "plt.title('Actual Vs Predicted Prices')\n",
    "#Add legend and grid\n",
    "plt.legend()\n",
    "plt.grid(True)\n",
    "# display the plot\n",
    "plt.show()"
  
